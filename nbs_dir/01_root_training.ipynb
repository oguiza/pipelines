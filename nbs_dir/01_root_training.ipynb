{
 "cells": [
  {
   "cell_type": "code",
   "execution_count": 1,
   "id": "d3a3f07d",
   "metadata": {
    "execution": {
     "iopub.execute_input": "2023-04-25T08:21:43.215424Z",
     "iopub.status.busy": "2023-04-25T08:21:43.214139Z",
     "iopub.status.idle": "2023-04-25T08:21:43.227535Z",
     "shell.execute_reply": "2023-04-25T08:21:43.224706Z"
    },
    "lines_to_next_cell": 2,
    "papermill": {
     "duration": 0.033722,
     "end_time": "2023-04-25T08:21:43.235095",
     "exception": false,
     "start_time": "2023-04-25T08:21:43.201373",
     "status": "completed"
    },
    "tags": []
   },
   "outputs": [],
   "source": [
    "# Add description here\n",
    "#\n",
    "# *Note:* You can open this file as a notebook (JupyterLab: right-click on it in the side bar -> Open With -> Notebook)"
   ]
  },
  {
   "cell_type": "code",
   "execution_count": 2,
   "id": "60f52ae3",
   "metadata": {
    "execution": {
     "iopub.execute_input": "2023-04-25T08:21:43.254998Z",
     "iopub.status.busy": "2023-04-25T08:21:43.253354Z",
     "iopub.status.idle": "2023-04-25T08:21:43.266013Z",
     "shell.execute_reply": "2023-04-25T08:21:43.263953Z"
    },
    "papermill": {
     "duration": 0.030809,
     "end_time": "2023-04-25T08:21:43.273635",
     "exception": false,
     "start_time": "2023-04-25T08:21:43.242826",
     "status": "completed"
    },
    "tags": []
   },
   "outputs": [],
   "source": [
    "# Uncomment the next two lines to enable auto reloading for imported modules\n",
    "# %load_ext autoreload\n",
    "# %autoreload 2\n",
    "# For more info, see:\n",
    "# https://docs.ploomber.io/en/latest/user-guide/faq_index.html#auto-reloading-code-in-jupyter"
   ]
  },
  {
   "cell_type": "code",
   "execution_count": 3,
   "id": "0c11ac81",
   "metadata": {
    "execution": {
     "iopub.execute_input": "2023-04-25T08:21:43.289589Z",
     "iopub.status.busy": "2023-04-25T08:21:43.288347Z",
     "iopub.status.idle": "2023-04-25T08:21:43.313226Z",
     "shell.execute_reply": "2023-04-25T08:21:43.311010Z"
    },
    "lines_to_next_cell": 2,
    "papermill": {
     "duration": 0.041439,
     "end_time": "2023-04-25T08:21:43.320645",
     "exception": false,
     "start_time": "2023-04-25T08:21:43.279206",
     "status": "completed"
    },
    "tags": [
     "parameters"
    ]
   },
   "outputs": [],
   "source": [
    "# If this task has dependencies, list them them here\n",
    "# (e.g. upstream = ['some_task']), otherwise leave as None.\n",
    "upstream = None\n",
    "\n",
    "# This is a placeholder, leave it as None\n",
    "product = None"
   ]
  },
  {
   "cell_type": "code",
   "execution_count": 4,
   "id": "b99f3794",
   "metadata": {
    "execution": {
     "iopub.execute_input": "2023-04-25T08:21:43.336552Z",
     "iopub.status.busy": "2023-04-25T08:21:43.335472Z",
     "iopub.status.idle": "2023-04-25T08:21:43.345772Z",
     "shell.execute_reply": "2023-04-25T08:21:43.343577Z"
    },
    "papermill": {
     "duration": 0.025374,
     "end_time": "2023-04-25T08:21:43.351903",
     "exception": false,
     "start_time": "2023-04-25T08:21:43.326529",
     "status": "completed"
    },
    "tags": [
     "injected-parameters"
    ]
   },
   "outputs": [],
   "source": [
    "# Parameters\n",
    "env_type = \"root_training\"\n",
    "product = {\"nb\": \"/Users/nacho/notebooks/pipelines/nbs_dir/01_root_training.ipynb\"}\n"
   ]
  },
  {
   "cell_type": "code",
   "execution_count": 5,
   "id": "64ea78ab",
   "metadata": {
    "execution": {
     "iopub.execute_input": "2023-04-25T08:21:43.372517Z",
     "iopub.status.busy": "2023-04-25T08:21:43.371522Z",
     "iopub.status.idle": "2023-04-25T08:21:43.385795Z",
     "shell.execute_reply": "2023-04-25T08:21:43.382022Z"
    },
    "papermill": {
     "duration": 0.036451,
     "end_time": "2023-04-25T08:21:43.396448",
     "exception": false,
     "start_time": "2023-04-25T08:21:43.359997",
     "status": "completed"
    },
    "tags": []
   },
   "outputs": [
    {
     "name": "stdout",
     "output_type": "stream",
     "text": [
      "root_training\n",
      "/Users/nacho/notebooks/pipelines/nbs_dir/01_root_training.ipynb\n"
     ]
    }
   ],
   "source": [
    "print(env_type)\n",
    "print(product[\"nb\"])"
   ]
  }
 ],
 "metadata": {
  "jupytext": {
   "text_representation": {
    "extension": ".py",
    "format_name": "percent",
    "format_version": "1.3",
    "jupytext_version": "1.14.5"
   }
  },
  "kernelspec": {
   "display_name": "Python 3 (ipykernel)",
   "language": "python",
   "name": "python3"
  },
  "language_info": {
   "codemirror_mode": {
    "name": "ipython",
    "version": 3
   },
   "file_extension": ".py",
   "mimetype": "text/x-python",
   "name": "python",
   "nbconvert_exporter": "python",
   "pygments_lexer": "ipython3",
   "version": "3.9.15"
  },
  "papermill": {
   "duration": 6.54963,
   "end_time": "2023-04-25T08:21:43.879584",
   "exception": null,
   "input_path": "/var/folders/42/4hhwknbd5kzcbq48tmy_gbp00000gn/T/tmp0m3rrwdw.ipynb",
   "output_path": "/Users/nacho/notebooks/pipelines/nbs_dir/01_root_training.ipynb",
   "parameters": {
    "env_type": "root_training",
    "product": {
     "nb": "/Users/nacho/notebooks/pipelines/nbs_dir/01_root_training.ipynb"
    }
   },
   "start_time": "2023-04-25T08:21:37.329954"
  }
 },
 "nbformat": 4,
 "nbformat_minor": 5
}