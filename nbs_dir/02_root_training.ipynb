{
 "cells": [
  {
   "cell_type": "code",
   "execution_count": 1,
   "id": "4e6bc802",
   "metadata": {
    "execution": {
     "iopub.execute_input": "2023-04-25T08:21:47.668051Z",
     "iopub.status.busy": "2023-04-25T08:21:47.666895Z",
     "iopub.status.idle": "2023-04-25T08:21:47.679964Z",
     "shell.execute_reply": "2023-04-25T08:21:47.678013Z"
    },
    "lines_to_next_cell": 2,
    "papermill": {
     "duration": 0.034026,
     "end_time": "2023-04-25T08:21:47.687703",
     "exception": false,
     "start_time": "2023-04-25T08:21:47.653677",
     "status": "completed"
    },
    "tags": []
   },
   "outputs": [],
   "source": [
    "# Add description here\n",
    "#\n",
    "# *Note:* You can open this file as a notebook (JupyterLab: right-click on it in the side bar -> Open With -> Notebook)"
   ]
  },
  {
   "cell_type": "code",
   "execution_count": 2,
   "id": "768f6878",
   "metadata": {
    "execution": {
     "iopub.execute_input": "2023-04-25T08:21:47.706304Z",
     "iopub.status.busy": "2023-04-25T08:21:47.705062Z",
     "iopub.status.idle": "2023-04-25T08:21:47.716584Z",
     "shell.execute_reply": "2023-04-25T08:21:47.714432Z"
    },
    "papermill": {
     "duration": 0.028667,
     "end_time": "2023-04-25T08:21:47.723243",
     "exception": false,
     "start_time": "2023-04-25T08:21:47.694576",
     "status": "completed"
    },
    "tags": []
   },
   "outputs": [],
   "source": [
    "# Uncomment the next two lines to enable auto reloading for imported modules\n",
    "# %load_ext autoreload\n",
    "# %autoreload 2\n",
    "# For more info, see:\n",
    "# https://docs.ploomber.io/en/latest/user-guide/faq_index.html#auto-reloading-code-in-jupyter"
   ]
  },
  {
   "cell_type": "code",
   "execution_count": 3,
   "id": "0c889ca7",
   "metadata": {
    "execution": {
     "iopub.execute_input": "2023-04-25T08:21:47.742954Z",
     "iopub.status.busy": "2023-04-25T08:21:47.741980Z",
     "iopub.status.idle": "2023-04-25T08:21:47.771271Z",
     "shell.execute_reply": "2023-04-25T08:21:47.768052Z"
    },
    "lines_to_next_cell": 2,
    "papermill": {
     "duration": 0.047866,
     "end_time": "2023-04-25T08:21:47.777678",
     "exception": false,
     "start_time": "2023-04-25T08:21:47.729812",
     "status": "completed"
    },
    "tags": [
     "parameters"
    ]
   },
   "outputs": [],
   "source": [
    "# If this task has dependencies, list them them here\n",
    "# (e.g. upstream = ['some_task']), otherwise leave as None.\n",
    "upstream = None\n",
    "\n",
    "# This is a placeholder, leave it as None\n",
    "product = None"
   ]
  },
  {
   "cell_type": "code",
   "execution_count": 4,
   "id": "27ced82a",
   "metadata": {
    "execution": {
     "iopub.execute_input": "2023-04-25T08:21:47.793444Z",
     "iopub.status.busy": "2023-04-25T08:21:47.792334Z",
     "iopub.status.idle": "2023-04-25T08:21:47.802732Z",
     "shell.execute_reply": "2023-04-25T08:21:47.800409Z"
    },
    "papermill": {
     "duration": 0.02465,
     "end_time": "2023-04-25T08:21:47.808614",
     "exception": false,
     "start_time": "2023-04-25T08:21:47.783964",
     "status": "completed"
    },
    "tags": [
     "injected-parameters"
    ]
   },
   "outputs": [],
   "source": [
    "# Parameters\n",
    "env_type = \"root_training\"\n",
    "product = {\"nb\": \"/Users/nacho/notebooks/pipelines/nbs_dir/02_root_training.ipynb\"}\n"
   ]
  },
  {
   "cell_type": "code",
   "execution_count": 5,
   "id": "5b0c3542",
   "metadata": {
    "execution": {
     "iopub.execute_input": "2023-04-25T08:21:47.840447Z",
     "iopub.status.busy": "2023-04-25T08:21:47.834078Z",
     "iopub.status.idle": "2023-04-25T08:21:47.858960Z",
     "shell.execute_reply": "2023-04-25T08:21:47.854524Z"
    },
    "papermill": {
     "duration": 0.053069,
     "end_time": "2023-04-25T08:21:47.867902",
     "exception": false,
     "start_time": "2023-04-25T08:21:47.814833",
     "status": "completed"
    },
    "tags": []
   },
   "outputs": [
    {
     "name": "stdout",
     "output_type": "stream",
     "text": [
      "root_training\n",
      "/Users/nacho/notebooks/pipelines/nbs_dir/02_root_training.ipynb\n"
     ]
    }
   ],
   "source": [
    "print(env_type)\n",
    "print(product[\"nb\"])"
   ]
  }
 ],
 "metadata": {
  "jupytext": {
   "text_representation": {
    "extension": ".py",
    "format_name": "percent",
    "format_version": "1.3",
    "jupytext_version": "1.14.5"
   }
  },
  "kernelspec": {
   "display_name": "Python 3 (ipykernel)",
   "language": "python",
   "name": "python3"
  },
  "language_info": {
   "codemirror_mode": {
    "name": "ipython",
    "version": 3
   },
   "file_extension": ".py",
   "mimetype": "text/x-python",
   "name": "python",
   "nbconvert_exporter": "python",
   "pygments_lexer": "ipython3",
   "version": "3.9.15"
  },
  "papermill": {
   "duration": 4.395375,
   "end_time": "2023-04-25T08:21:48.330591",
   "exception": null,
   "input_path": "/var/folders/42/4hhwknbd5kzcbq48tmy_gbp00000gn/T/tmpvx8y6vo0.ipynb",
   "output_path": "/Users/nacho/notebooks/pipelines/nbs_dir/02_root_training.ipynb",
   "parameters": {
    "env_type": "root_training",
    "product": {
     "nb": "/Users/nacho/notebooks/pipelines/nbs_dir/02_root_training.ipynb"
    }
   },
   "start_time": "2023-04-25T08:21:43.935216"
  }
 },
 "nbformat": 4,
 "nbformat_minor": 5
}