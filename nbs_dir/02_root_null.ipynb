{
 "cells": [
  {
   "cell_type": "code",
   "execution_count": 1,
   "id": "578a2778",
   "metadata": {
    "execution": {
     "iopub.execute_input": "2023-04-25T08:16:50.101511Z",
     "iopub.status.busy": "2023-04-25T08:16:50.100567Z",
     "iopub.status.idle": "2023-04-25T08:16:50.111155Z",
     "shell.execute_reply": "2023-04-25T08:16:50.109271Z"
    },
    "lines_to_next_cell": 2,
    "papermill": {
     "duration": 0.02531,
     "end_time": "2023-04-25T08:16:50.116993",
     "exception": false,
     "start_time": "2023-04-25T08:16:50.091683",
     "status": "completed"
    },
    "tags": []
   },
   "outputs": [],
   "source": [
    "# Add description here\n",
    "#\n",
    "# *Note:* You can open this file as a notebook (JupyterLab: right-click on it in the side bar -> Open With -> Notebook)"
   ]
  },
  {
   "cell_type": "code",
   "execution_count": 2,
   "id": "a6f05e32",
   "metadata": {
    "execution": {
     "iopub.execute_input": "2023-04-25T08:16:50.133959Z",
     "iopub.status.busy": "2023-04-25T08:16:50.132407Z",
     "iopub.status.idle": "2023-04-25T08:16:50.145172Z",
     "shell.execute_reply": "2023-04-25T08:16:50.142415Z"
    },
    "papermill": {
     "duration": 0.029021,
     "end_time": "2023-04-25T08:16:50.152100",
     "exception": false,
     "start_time": "2023-04-25T08:16:50.123079",
     "status": "completed"
    },
    "tags": []
   },
   "outputs": [],
   "source": [
    "# Uncomment the next two lines to enable auto reloading for imported modules\n",
    "# %load_ext autoreload\n",
    "# %autoreload 2\n",
    "# For more info, see:\n",
    "# https://docs.ploomber.io/en/latest/user-guide/faq_index.html#auto-reloading-code-in-jupyter"
   ]
  },
  {
   "cell_type": "code",
   "execution_count": 3,
   "id": "3789f20b",
   "metadata": {
    "execution": {
     "iopub.execute_input": "2023-04-25T08:16:50.166496Z",
     "iopub.status.busy": "2023-04-25T08:16:50.165567Z",
     "iopub.status.idle": "2023-04-25T08:16:50.187216Z",
     "shell.execute_reply": "2023-04-25T08:16:50.185119Z"
    },
    "lines_to_next_cell": 2,
    "papermill": {
     "duration": 0.035909,
     "end_time": "2023-04-25T08:16:50.193419",
     "exception": false,
     "start_time": "2023-04-25T08:16:50.157510",
     "status": "completed"
    },
    "tags": [
     "parameters"
    ]
   },
   "outputs": [],
   "source": [
    "# If this task has dependencies, list them them here\n",
    "# (e.g. upstream = ['some_task']), otherwise leave as None.\n",
    "upstream = None\n",
    "\n",
    "# This is a placeholder, leave it as None\n",
    "product = None"
   ]
  },
  {
   "cell_type": "code",
   "execution_count": 4,
   "id": "69f1b70e",
   "metadata": {
    "execution": {
     "iopub.execute_input": "2023-04-25T08:16:50.209474Z",
     "iopub.status.busy": "2023-04-25T08:16:50.208336Z",
     "iopub.status.idle": "2023-04-25T08:16:50.218744Z",
     "shell.execute_reply": "2023-04-25T08:16:50.216814Z"
    },
    "papermill": {
     "duration": 0.02632,
     "end_time": "2023-04-25T08:16:50.225224",
     "exception": false,
     "start_time": "2023-04-25T08:16:50.198904",
     "status": "completed"
    },
    "tags": [
     "injected-parameters"
    ]
   },
   "outputs": [],
   "source": [
    "# Parameters\n",
    "env_type = \"root_null\"\n",
    "product = {\"nb\": \"/Users/nacho/notebooks/pipelines/nbs_dir/02_root_null.ipynb\"}\n"
   ]
  },
  {
   "cell_type": "code",
   "execution_count": 5,
   "id": "5c998197",
   "metadata": {
    "execution": {
     "iopub.execute_input": "2023-04-25T08:16:50.243240Z",
     "iopub.status.busy": "2023-04-25T08:16:50.242295Z",
     "iopub.status.idle": "2023-04-25T08:16:50.257228Z",
     "shell.execute_reply": "2023-04-25T08:16:50.254070Z"
    },
    "papermill": {
     "duration": 0.031972,
     "end_time": "2023-04-25T08:16:50.264085",
     "exception": false,
     "start_time": "2023-04-25T08:16:50.232113",
     "status": "completed"
    },
    "tags": []
   },
   "outputs": [
    {
     "name": "stdout",
     "output_type": "stream",
     "text": [
      "root_null\n",
      "/Users/nacho/notebooks/pipelines/nbs_dir/02_root_null.ipynb\n"
     ]
    }
   ],
   "source": [
    "print(env_type)\n",
    "print(product[\"nb\"])"
   ]
  }
 ],
 "metadata": {
  "jupytext": {
   "text_representation": {
    "extension": ".py",
    "format_name": "percent",
    "format_version": "1.3",
    "jupytext_version": "1.14.5"
   }
  },
  "kernelspec": {
   "display_name": "Python 3 (ipykernel)",
   "language": "python",
   "name": "python3"
  },
  "language_info": {
   "codemirror_mode": {
    "name": "ipython",
    "version": 3
   },
   "file_extension": ".py",
   "mimetype": "text/x-python",
   "name": "python",
   "nbconvert_exporter": "python",
   "pygments_lexer": "ipython3",
   "version": "3.9.15"
  },
  "papermill": {
   "duration": 3.97116,
   "end_time": "2023-04-25T08:16:50.712024",
   "exception": null,
   "input_path": "/var/folders/42/4hhwknbd5kzcbq48tmy_gbp00000gn/T/tmpjptcq9y8.ipynb",
   "output_path": "/Users/nacho/notebooks/pipelines/nbs_dir/02_root_null.ipynb",
   "parameters": {
    "env_type": "root_null",
    "product": {
     "nb": "/Users/nacho/notebooks/pipelines/nbs_dir/02_root_null.ipynb"
    }
   },
   "start_time": "2023-04-25T08:16:46.740864"
  }
 },
 "nbformat": 4,
 "nbformat_minor": 5
}