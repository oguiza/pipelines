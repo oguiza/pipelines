{
 "cells": [
  {
   "cell_type": "code",
   "execution_count": 1,
   "id": "3f6c2e5e",
   "metadata": {
    "execution": {
     "iopub.execute_input": "2023-04-25T08:16:46.064275Z",
     "iopub.status.busy": "2023-04-25T08:16:46.062754Z",
     "iopub.status.idle": "2023-04-25T08:16:46.084252Z",
     "shell.execute_reply": "2023-04-25T08:16:46.078820Z"
    },
    "lines_to_next_cell": 2,
    "papermill": {
     "duration": 0.049839,
     "end_time": "2023-04-25T08:16:46.094358",
     "exception": false,
     "start_time": "2023-04-25T08:16:46.044519",
     "status": "completed"
    },
    "tags": []
   },
   "outputs": [],
   "source": [
    "# Add description here\n",
    "#\n",
    "# *Note:* You can open this file as a notebook (JupyterLab: right-click on it in the side bar -> Open With -> Notebook)"
   ]
  },
  {
   "cell_type": "code",
   "execution_count": 2,
   "id": "a6f560f4",
   "metadata": {
    "execution": {
     "iopub.execute_input": "2023-04-25T08:16:46.112855Z",
     "iopub.status.busy": "2023-04-25T08:16:46.111905Z",
     "iopub.status.idle": "2023-04-25T08:16:46.124862Z",
     "shell.execute_reply": "2023-04-25T08:16:46.121797Z"
    },
    "papermill": {
     "duration": 0.029671,
     "end_time": "2023-04-25T08:16:46.132449",
     "exception": false,
     "start_time": "2023-04-25T08:16:46.102778",
     "status": "completed"
    },
    "tags": []
   },
   "outputs": [],
   "source": [
    "# Uncomment the next two lines to enable auto reloading for imported modules\n",
    "# %load_ext autoreload\n",
    "# %autoreload 2\n",
    "# For more info, see:\n",
    "# https://docs.ploomber.io/en/latest/user-guide/faq_index.html#auto-reloading-code-in-jupyter"
   ]
  },
  {
   "cell_type": "code",
   "execution_count": 3,
   "id": "57fd0217",
   "metadata": {
    "execution": {
     "iopub.execute_input": "2023-04-25T08:16:46.151026Z",
     "iopub.status.busy": "2023-04-25T08:16:46.149653Z",
     "iopub.status.idle": "2023-04-25T08:16:46.173628Z",
     "shell.execute_reply": "2023-04-25T08:16:46.171425Z"
    },
    "lines_to_next_cell": 2,
    "papermill": {
     "duration": 0.041089,
     "end_time": "2023-04-25T08:16:46.179869",
     "exception": false,
     "start_time": "2023-04-25T08:16:46.138780",
     "status": "completed"
    },
    "tags": [
     "parameters"
    ]
   },
   "outputs": [],
   "source": [
    "# If this task has dependencies, list them them here\n",
    "# (e.g. upstream = ['some_task']), otherwise leave as None.\n",
    "upstream = None\n",
    "\n",
    "# This is a placeholder, leave it as None\n",
    "product = None"
   ]
  },
  {
   "cell_type": "code",
   "execution_count": 4,
   "id": "815dcdd2",
   "metadata": {
    "execution": {
     "iopub.execute_input": "2023-04-25T08:16:46.194657Z",
     "iopub.status.busy": "2023-04-25T08:16:46.193733Z",
     "iopub.status.idle": "2023-04-25T08:16:46.203883Z",
     "shell.execute_reply": "2023-04-25T08:16:46.201496Z"
    },
    "papermill": {
     "duration": 0.025124,
     "end_time": "2023-04-25T08:16:46.210604",
     "exception": false,
     "start_time": "2023-04-25T08:16:46.185480",
     "status": "completed"
    },
    "tags": [
     "injected-parameters"
    ]
   },
   "outputs": [],
   "source": [
    "# Parameters\n",
    "env_type = \"root_null\"\n",
    "product = {\"nb\": \"/Users/nacho/notebooks/pipelines/nbs_dir/01_root_null.ipynb\"}\n"
   ]
  },
  {
   "cell_type": "code",
   "execution_count": 5,
   "id": "897a8f73",
   "metadata": {
    "execution": {
     "iopub.execute_input": "2023-04-25T08:16:46.227996Z",
     "iopub.status.busy": "2023-04-25T08:16:46.226956Z",
     "iopub.status.idle": "2023-04-25T08:16:46.241394Z",
     "shell.execute_reply": "2023-04-25T08:16:46.238429Z"
    },
    "papermill": {
     "duration": 0.031382,
     "end_time": "2023-04-25T08:16:46.248946",
     "exception": false,
     "start_time": "2023-04-25T08:16:46.217564",
     "status": "completed"
    },
    "tags": []
   },
   "outputs": [
    {
     "name": "stdout",
     "output_type": "stream",
     "text": [
      "root_null\n",
      "/Users/nacho/notebooks/pipelines/nbs_dir/01_root_null.ipynb\n"
     ]
    }
   ],
   "source": [
    "print(env_type)\n",
    "print(product[\"nb\"])"
   ]
  }
 ],
 "metadata": {
  "jupytext": {
   "text_representation": {
    "extension": ".py",
    "format_name": "percent",
    "format_version": "1.3",
    "jupytext_version": "1.14.5"
   }
  },
  "kernelspec": {
   "display_name": "Python 3 (ipykernel)",
   "language": "python",
   "name": "python3"
  },
  "language_info": {
   "codemirror_mode": {
    "name": "ipython",
    "version": 3
   },
   "file_extension": ".py",
   "mimetype": "text/x-python",
   "name": "python",
   "nbconvert_exporter": "python",
   "pygments_lexer": "ipython3",
   "version": "3.9.15"
  },
  "papermill": {
   "duration": 4.318618,
   "end_time": "2023-04-25T08:16:46.701565",
   "exception": null,
   "input_path": "/var/folders/42/4hhwknbd5kzcbq48tmy_gbp00000gn/T/tmpm0n07cdm.ipynb",
   "output_path": "/Users/nacho/notebooks/pipelines/nbs_dir/01_root_null.ipynb",
   "parameters": {
    "env_type": "root_null",
    "product": {
     "nb": "/Users/nacho/notebooks/pipelines/nbs_dir/01_root_null.ipynb"
    }
   },
   "start_time": "2023-04-25T08:16:42.382947"
  }
 },
 "nbformat": 4,
 "nbformat_minor": 5
}