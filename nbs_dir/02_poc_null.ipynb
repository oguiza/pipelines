{
 "cells": [
  {
   "cell_type": "code",
   "execution_count": 1,
   "id": "d76f9559",
   "metadata": {
    "execution": {
     "iopub.execute_input": "2023-04-25T08:32:50.260979Z",
     "iopub.status.busy": "2023-04-25T08:32:50.259307Z",
     "iopub.status.idle": "2023-04-25T08:32:50.275544Z",
     "shell.execute_reply": "2023-04-25T08:32:50.273493Z"
    },
    "lines_to_next_cell": 2,
    "papermill": {
     "duration": 0.032977,
     "end_time": "2023-04-25T08:32:50.282113",
     "exception": false,
     "start_time": "2023-04-25T08:32:50.249136",
     "status": "completed"
    },
    "tags": []
   },
   "outputs": [],
   "source": [
    "# Add description here\n",
    "#\n",
    "# *Note:* You can open this file as a notebook (JupyterLab: right-click on it in the side bar -> Open With -> Notebook)"
   ]
  },
  {
   "cell_type": "code",
   "execution_count": 2,
   "id": "b3ab30a4",
   "metadata": {
    "execution": {
     "iopub.execute_input": "2023-04-25T08:32:50.299905Z",
     "iopub.status.busy": "2023-04-25T08:32:50.298198Z",
     "iopub.status.idle": "2023-04-25T08:32:50.312682Z",
     "shell.execute_reply": "2023-04-25T08:32:50.309097Z"
    },
    "papermill": {
     "duration": 0.030528,
     "end_time": "2023-04-25T08:32:50.319618",
     "exception": false,
     "start_time": "2023-04-25T08:32:50.289090",
     "status": "completed"
    },
    "tags": []
   },
   "outputs": [],
   "source": [
    "# Uncomment the next two lines to enable auto reloading for imported modules\n",
    "# %load_ext autoreload\n",
    "# %autoreload 2\n",
    "# For more info, see:\n",
    "# https://docs.ploomber.io/en/latest/user-guide/faq_index.html#auto-reloading-code-in-jupyter"
   ]
  },
  {
   "cell_type": "code",
   "execution_count": 3,
   "id": "2496b40a",
   "metadata": {
    "execution": {
     "iopub.execute_input": "2023-04-25T08:32:50.333881Z",
     "iopub.status.busy": "2023-04-25T08:32:50.332964Z",
     "iopub.status.idle": "2023-04-25T08:32:50.355888Z",
     "shell.execute_reply": "2023-04-25T08:32:50.353262Z"
    },
    "lines_to_next_cell": 2,
    "papermill": {
     "duration": 0.036386,
     "end_time": "2023-04-25T08:32:50.361553",
     "exception": false,
     "start_time": "2023-04-25T08:32:50.325167",
     "status": "completed"
    },
    "tags": [
     "parameters"
    ]
   },
   "outputs": [],
   "source": [
    "# If this task has dependencies, list them them here\n",
    "# (e.g. upstream = ['some_task']), otherwise leave as None.\n",
    "upstream = None\n",
    "\n",
    "# This is a placeholder, leave it as None\n",
    "product = None"
   ]
  },
  {
   "cell_type": "code",
   "execution_count": 4,
   "id": "d7b1d8ea",
   "metadata": {
    "execution": {
     "iopub.execute_input": "2023-04-25T08:32:50.378701Z",
     "iopub.status.busy": "2023-04-25T08:32:50.377523Z",
     "iopub.status.idle": "2023-04-25T08:32:50.388200Z",
     "shell.execute_reply": "2023-04-25T08:32:50.386044Z"
    },
    "papermill": {
     "duration": 0.026656,
     "end_time": "2023-04-25T08:32:50.394639",
     "exception": false,
     "start_time": "2023-04-25T08:32:50.367983",
     "status": "completed"
    },
    "tags": [
     "injected-parameters"
    ]
   },
   "outputs": [],
   "source": [
    "# Parameters\n",
    "env_type = \"poc_null\"\n",
    "product = {\"nb\": \"/Users/nacho/notebooks/pipelines/nbs_dir/02_poc_null.ipynb\"}\n"
   ]
  },
  {
   "cell_type": "code",
   "execution_count": 5,
   "id": "9ccb2f4e",
   "metadata": {
    "execution": {
     "iopub.execute_input": "2023-04-25T08:32:50.412167Z",
     "iopub.status.busy": "2023-04-25T08:32:50.410709Z",
     "iopub.status.idle": "2023-04-25T08:32:50.427601Z",
     "shell.execute_reply": "2023-04-25T08:32:50.422739Z"
    },
    "papermill": {
     "duration": 0.033245,
     "end_time": "2023-04-25T08:32:50.434410",
     "exception": false,
     "start_time": "2023-04-25T08:32:50.401165",
     "status": "completed"
    },
    "tags": []
   },
   "outputs": [
    {
     "name": "stdout",
     "output_type": "stream",
     "text": [
      "poc_null\n",
      "/Users/nacho/notebooks/pipelines/nbs_dir/02_poc_null.ipynb\n"
     ]
    }
   ],
   "source": [
    "print(env_type)\n",
    "print(product[\"nb\"])"
   ]
  }
 ],
 "metadata": {
  "jupytext": {
   "text_representation": {
    "extension": ".py",
    "format_name": "percent",
    "format_version": "1.3",
    "jupytext_version": "1.14.5"
   }
  },
  "kernelspec": {
   "display_name": "Python 3 (ipykernel)",
   "language": "python",
   "name": "python3"
  },
  "language_info": {
   "codemirror_mode": {
    "name": "ipython",
    "version": 3
   },
   "file_extension": ".py",
   "mimetype": "text/x-python",
   "name": "python",
   "nbconvert_exporter": "python",
   "pygments_lexer": "ipython3",
   "version": "3.9.15"
  },
  "papermill": {
   "duration": 3.905649,
   "end_time": "2023-04-25T08:32:50.886552",
   "exception": null,
   "input_path": "/var/folders/42/4hhwknbd5kzcbq48tmy_gbp00000gn/T/tmpcj403gpw.ipynb",
   "output_path": "/Users/nacho/notebooks/pipelines/nbs_dir/02_poc_null.ipynb",
   "parameters": {
    "env_type": "poc_null",
    "product": {
     "nb": "/Users/nacho/notebooks/pipelines/nbs_dir/02_poc_null.ipynb"
    }
   },
   "start_time": "2023-04-25T08:32:46.980903"
  }
 },
 "nbformat": 4,
 "nbformat_minor": 5
}