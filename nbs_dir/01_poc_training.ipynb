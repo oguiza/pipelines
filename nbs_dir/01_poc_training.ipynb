{
 "cells": [
  {
   "cell_type": "code",
   "execution_count": 1,
   "id": "966479bf",
   "metadata": {
    "execution": {
     "iopub.execute_input": "2023-04-25T08:37:08.472859Z",
     "iopub.status.busy": "2023-04-25T08:37:08.468322Z",
     "iopub.status.idle": "2023-04-25T08:37:08.497927Z",
     "shell.execute_reply": "2023-04-25T08:37:08.494764Z"
    },
    "lines_to_next_cell": 2,
    "papermill": {
     "duration": 0.06715,
     "end_time": "2023-04-25T08:37:08.514803",
     "exception": false,
     "start_time": "2023-04-25T08:37:08.447653",
     "status": "completed"
    },
    "tags": []
   },
   "outputs": [],
   "source": [
    "# Add description here\n",
    "#\n",
    "# *Note:* You can open this file as a notebook (JupyterLab: right-click on it in the side bar -> Open With -> Notebook)"
   ]
  },
  {
   "cell_type": "code",
   "execution_count": 2,
   "id": "fd8be607",
   "metadata": {
    "execution": {
     "iopub.execute_input": "2023-04-25T08:37:08.545039Z",
     "iopub.status.busy": "2023-04-25T08:37:08.543310Z",
     "iopub.status.idle": "2023-04-25T08:37:08.561108Z",
     "shell.execute_reply": "2023-04-25T08:37:08.556892Z"
    },
    "papermill": {
     "duration": 0.049541,
     "end_time": "2023-04-25T08:37:08.577825",
     "exception": false,
     "start_time": "2023-04-25T08:37:08.528284",
     "status": "completed"
    },
    "tags": []
   },
   "outputs": [],
   "source": [
    "# Uncomment the next two lines to enable auto reloading for imported modules\n",
    "# %load_ext autoreload\n",
    "# %autoreload 2\n",
    "# For more info, see:\n",
    "# https://docs.ploomber.io/en/latest/user-guide/faq_index.html#auto-reloading-code-in-jupyter"
   ]
  },
  {
   "cell_type": "code",
   "execution_count": 3,
   "id": "38d11079",
   "metadata": {
    "execution": {
     "iopub.execute_input": "2023-04-25T08:37:08.665443Z",
     "iopub.status.busy": "2023-04-25T08:37:08.661225Z",
     "iopub.status.idle": "2023-04-25T08:37:08.707011Z",
     "shell.execute_reply": "2023-04-25T08:37:08.701729Z"
    },
    "lines_to_next_cell": 2,
    "papermill": {
     "duration": 0.130453,
     "end_time": "2023-04-25T08:37:08.720864",
     "exception": false,
     "start_time": "2023-04-25T08:37:08.590411",
     "status": "completed"
    },
    "tags": [
     "parameters"
    ]
   },
   "outputs": [],
   "source": [
    "# If this task has dependencies, list them them here\n",
    "# (e.g. upstream = ['some_task']), otherwise leave as None.\n",
    "upstream = None\n",
    "\n",
    "# This is a placeholder, leave it as None\n",
    "product = None"
   ]
  },
  {
   "cell_type": "code",
   "execution_count": 4,
   "id": "813c67fd",
   "metadata": {
    "execution": {
     "iopub.execute_input": "2023-04-25T08:37:08.788974Z",
     "iopub.status.busy": "2023-04-25T08:37:08.786939Z",
     "iopub.status.idle": "2023-04-25T08:37:08.805324Z",
     "shell.execute_reply": "2023-04-25T08:37:08.800153Z"
    },
    "papermill": {
     "duration": 0.083784,
     "end_time": "2023-04-25T08:37:08.817607",
     "exception": false,
     "start_time": "2023-04-25T08:37:08.733823",
     "status": "completed"
    },
    "tags": [
     "injected-parameters"
    ]
   },
   "outputs": [],
   "source": [
    "# Parameters\n",
    "env_type = \"poc_training\"\n",
    "product = {\"nb\": \"/Users/nacho/notebooks/pipelines/nbs_dir/01_poc_training.ipynb\"}\n"
   ]
  },
  {
   "cell_type": "code",
   "execution_count": 5,
   "id": "e105b64b",
   "metadata": {
    "execution": {
     "iopub.execute_input": "2023-04-25T08:37:08.843811Z",
     "iopub.status.busy": "2023-04-25T08:37:08.842615Z",
     "iopub.status.idle": "2023-04-25T08:37:08.857914Z",
     "shell.execute_reply": "2023-04-25T08:37:08.854185Z"
    },
    "papermill": {
     "duration": 0.048086,
     "end_time": "2023-04-25T08:37:08.875447",
     "exception": false,
     "start_time": "2023-04-25T08:37:08.827361",
     "status": "completed"
    },
    "tags": []
   },
   "outputs": [
    {
     "name": "stdout",
     "output_type": "stream",
     "text": [
      "poc_training\n",
      "/Users/nacho/notebooks/pipelines/nbs_dir/01_poc_training.ipynb\n"
     ]
    }
   ],
   "source": [
    "print(env_type)\n",
    "print(product[\"nb\"])"
   ]
  }
 ],
 "metadata": {
  "jupytext": {
   "text_representation": {
    "extension": ".py",
    "format_name": "percent",
    "format_version": "1.3",
    "jupytext_version": "1.14.5"
   }
  },
  "kernelspec": {
   "display_name": "Python 3 (ipykernel)",
   "language": "python",
   "name": "python3"
  },
  "language_info": {
   "codemirror_mode": {
    "name": "ipython",
    "version": 3
   },
   "file_extension": ".py",
   "mimetype": "text/x-python",
   "name": "python",
   "nbconvert_exporter": "python",
   "pygments_lexer": "ipython3",
   "version": "3.9.15"
  },
  "papermill": {
   "duration": 7.118318,
   "end_time": "2023-04-25T08:37:09.445776",
   "exception": null,
   "input_path": "/var/folders/42/4hhwknbd5kzcbq48tmy_gbp00000gn/T/tmpph29l525.ipynb",
   "output_path": "/Users/nacho/notebooks/pipelines/nbs_dir/01_poc_training.ipynb",
   "parameters": {
    "env_type": "poc_training",
    "product": {
     "nb": "/Users/nacho/notebooks/pipelines/nbs_dir/01_poc_training.ipynb"
    }
   },
   "start_time": "2023-04-25T08:37:02.327458"
  }
 },
 "nbformat": 4,
 "nbformat_minor": 5
}