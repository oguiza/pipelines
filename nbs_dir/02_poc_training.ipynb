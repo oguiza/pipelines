{
 "cells": [
  {
   "cell_type": "code",
   "execution_count": 1,
   "id": "2d0c465e",
   "metadata": {
    "execution": {
     "iopub.execute_input": "2023-04-25T08:37:14.545248Z",
     "iopub.status.busy": "2023-04-25T08:37:14.543660Z",
     "iopub.status.idle": "2023-04-25T08:37:14.568846Z",
     "shell.execute_reply": "2023-04-25T08:37:14.564172Z"
    },
    "lines_to_next_cell": 2,
    "papermill": {
     "duration": 0.057558,
     "end_time": "2023-04-25T08:37:14.581928",
     "exception": false,
     "start_time": "2023-04-25T08:37:14.524370",
     "status": "completed"
    },
    "tags": []
   },
   "outputs": [],
   "source": [
    "# Add description here\n",
    "#\n",
    "# *Note:* You can open this file as a notebook (JupyterLab: right-click on it in the side bar -> Open With -> Notebook)"
   ]
  },
  {
   "cell_type": "code",
   "execution_count": 2,
   "id": "b4983a64",
   "metadata": {
    "execution": {
     "iopub.execute_input": "2023-04-25T08:37:14.616091Z",
     "iopub.status.busy": "2023-04-25T08:37:14.612879Z",
     "iopub.status.idle": "2023-04-25T08:37:14.632241Z",
     "shell.execute_reply": "2023-04-25T08:37:14.627959Z"
    },
    "papermill": {
     "duration": 0.047619,
     "end_time": "2023-04-25T08:37:14.641593",
     "exception": false,
     "start_time": "2023-04-25T08:37:14.593974",
     "status": "completed"
    },
    "tags": []
   },
   "outputs": [],
   "source": [
    "# Uncomment the next two lines to enable auto reloading for imported modules\n",
    "# %load_ext autoreload\n",
    "# %autoreload 2\n",
    "# For more info, see:\n",
    "# https://docs.ploomber.io/en/latest/user-guide/faq_index.html#auto-reloading-code-in-jupyter"
   ]
  },
  {
   "cell_type": "code",
   "execution_count": 3,
   "id": "2390c90f",
   "metadata": {
    "execution": {
     "iopub.execute_input": "2023-04-25T08:37:14.663314Z",
     "iopub.status.busy": "2023-04-25T08:37:14.662378Z",
     "iopub.status.idle": "2023-04-25T08:37:14.691275Z",
     "shell.execute_reply": "2023-04-25T08:37:14.689024Z"
    },
    "lines_to_next_cell": 2,
    "papermill": {
     "duration": 0.046939,
     "end_time": "2023-04-25T08:37:14.697534",
     "exception": false,
     "start_time": "2023-04-25T08:37:14.650595",
     "status": "completed"
    },
    "tags": [
     "parameters"
    ]
   },
   "outputs": [],
   "source": [
    "# If this task has dependencies, list them them here\n",
    "# (e.g. upstream = ['some_task']), otherwise leave as None.\n",
    "upstream = None\n",
    "\n",
    "# This is a placeholder, leave it as None\n",
    "product = None"
   ]
  },
  {
   "cell_type": "code",
   "execution_count": 4,
   "id": "1f3dec06",
   "metadata": {
    "execution": {
     "iopub.execute_input": "2023-04-25T08:37:14.726433Z",
     "iopub.status.busy": "2023-04-25T08:37:14.723871Z",
     "iopub.status.idle": "2023-04-25T08:37:14.738566Z",
     "shell.execute_reply": "2023-04-25T08:37:14.735815Z"
    },
    "papermill": {
     "duration": 0.037812,
     "end_time": "2023-04-25T08:37:14.747332",
     "exception": false,
     "start_time": "2023-04-25T08:37:14.709520",
     "status": "completed"
    },
    "tags": [
     "injected-parameters"
    ]
   },
   "outputs": [],
   "source": [
    "# Parameters\n",
    "env_type = \"poc_training\"\n",
    "product = {\"nb\": \"/Users/nacho/notebooks/pipelines/nbs_dir/02_poc_training.ipynb\"}\n"
   ]
  },
  {
   "cell_type": "code",
   "execution_count": 5,
   "id": "ad6d41ea",
   "metadata": {
    "execution": {
     "iopub.execute_input": "2023-04-25T08:37:14.770767Z",
     "iopub.status.busy": "2023-04-25T08:37:14.769800Z",
     "iopub.status.idle": "2023-04-25T08:37:14.784969Z",
     "shell.execute_reply": "2023-04-25T08:37:14.780650Z"
    },
    "papermill": {
     "duration": 0.034407,
     "end_time": "2023-04-25T08:37:14.792744",
     "exception": false,
     "start_time": "2023-04-25T08:37:14.758337",
     "status": "completed"
    },
    "tags": []
   },
   "outputs": [
    {
     "name": "stdout",
     "output_type": "stream",
     "text": [
      "poc_training\n",
      "/Users/nacho/notebooks/pipelines/nbs_dir/02_poc_training.ipynb\n"
     ]
    }
   ],
   "source": [
    "print(env_type)\n",
    "print(product[\"nb\"])"
   ]
  }
 ],
 "metadata": {
  "jupytext": {
   "text_representation": {
    "extension": ".py",
    "format_name": "percent",
    "format_version": "1.3",
    "jupytext_version": "1.14.5"
   }
  },
  "kernelspec": {
   "display_name": "Python 3 (ipykernel)",
   "language": "python",
   "name": "python3"
  },
  "language_info": {
   "codemirror_mode": {
    "name": "ipython",
    "version": 3
   },
   "file_extension": ".py",
   "mimetype": "text/x-python",
   "name": "python",
   "nbconvert_exporter": "python",
   "pygments_lexer": "ipython3",
   "version": "3.9.15"
  },
  "papermill": {
   "duration": 8.114615,
   "end_time": "2023-04-25T08:37:17.628441",
   "exception": null,
   "input_path": "/var/folders/42/4hhwknbd5kzcbq48tmy_gbp00000gn/T/tmp_yru8_3o.ipynb",
   "output_path": "/Users/nacho/notebooks/pipelines/nbs_dir/02_poc_training.ipynb",
   "parameters": {
    "env_type": "poc_training",
    "product": {
     "nb": "/Users/nacho/notebooks/pipelines/nbs_dir/02_poc_training.ipynb"
    }
   },
   "start_time": "2023-04-25T08:37:09.513826"
  }
 },
 "nbformat": 4,
 "nbformat_minor": 5
}