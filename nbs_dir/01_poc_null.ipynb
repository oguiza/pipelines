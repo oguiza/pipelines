{
 "cells": [
  {
   "cell_type": "code",
   "execution_count": 1,
   "id": "e49b7bbc",
   "metadata": {
    "execution": {
     "iopub.execute_input": "2023-04-25T08:32:46.248858Z",
     "iopub.status.busy": "2023-04-25T08:32:46.246090Z",
     "iopub.status.idle": "2023-04-25T08:32:46.263184Z",
     "shell.execute_reply": "2023-04-25T08:32:46.259773Z"
    },
    "lines_to_next_cell": 2,
    "papermill": {
     "duration": 0.037048,
     "end_time": "2023-04-25T08:32:46.271441",
     "exception": false,
     "start_time": "2023-04-25T08:32:46.234393",
     "status": "completed"
    },
    "tags": []
   },
   "outputs": [],
   "source": [
    "# Add description here\n",
    "#\n",
    "# *Note:* You can open this file as a notebook (JupyterLab: right-click on it in the side bar -> Open With -> Notebook)"
   ]
  },
  {
   "cell_type": "code",
   "execution_count": 2,
   "id": "725eedbc",
   "metadata": {
    "execution": {
     "iopub.execute_input": "2023-04-25T08:32:46.294248Z",
     "iopub.status.busy": "2023-04-25T08:32:46.291323Z",
     "iopub.status.idle": "2023-04-25T08:32:46.324461Z",
     "shell.execute_reply": "2023-04-25T08:32:46.320238Z"
    },
    "papermill": {
     "duration": 0.052269,
     "end_time": "2023-04-25T08:32:46.331925",
     "exception": false,
     "start_time": "2023-04-25T08:32:46.279656",
     "status": "completed"
    },
    "tags": []
   },
   "outputs": [],
   "source": [
    "# Uncomment the next two lines to enable auto reloading for imported modules\n",
    "# %load_ext autoreload\n",
    "# %autoreload 2\n",
    "# For more info, see:\n",
    "# https://docs.ploomber.io/en/latest/user-guide/faq_index.html#auto-reloading-code-in-jupyter"
   ]
  },
  {
   "cell_type": "code",
   "execution_count": 3,
   "id": "d66f032b",
   "metadata": {
    "execution": {
     "iopub.execute_input": "2023-04-25T08:32:46.351400Z",
     "iopub.status.busy": "2023-04-25T08:32:46.350423Z",
     "iopub.status.idle": "2023-04-25T08:32:46.376539Z",
     "shell.execute_reply": "2023-04-25T08:32:46.374126Z"
    },
    "lines_to_next_cell": 2,
    "papermill": {
     "duration": 0.04452,
     "end_time": "2023-04-25T08:32:46.383259",
     "exception": false,
     "start_time": "2023-04-25T08:32:46.338739",
     "status": "completed"
    },
    "tags": [
     "parameters"
    ]
   },
   "outputs": [],
   "source": [
    "# If this task has dependencies, list them them here\n",
    "# (e.g. upstream = ['some_task']), otherwise leave as None.\n",
    "upstream = None\n",
    "\n",
    "# This is a placeholder, leave it as None\n",
    "product = None"
   ]
  },
  {
   "cell_type": "code",
   "execution_count": 4,
   "id": "ffff48c6",
   "metadata": {
    "execution": {
     "iopub.execute_input": "2023-04-25T08:32:46.402402Z",
     "iopub.status.busy": "2023-04-25T08:32:46.401282Z",
     "iopub.status.idle": "2023-04-25T08:32:46.423858Z",
     "shell.execute_reply": "2023-04-25T08:32:46.413550Z"
    },
    "papermill": {
     "duration": 0.0436,
     "end_time": "2023-04-25T08:32:46.433942",
     "exception": false,
     "start_time": "2023-04-25T08:32:46.390342",
     "status": "completed"
    },
    "tags": [
     "injected-parameters"
    ]
   },
   "outputs": [],
   "source": [
    "# Parameters\n",
    "env_type = \"poc_null\"\n",
    "product = {\"nb\": \"/Users/nacho/notebooks/pipelines/nbs_dir/01_poc_null.ipynb\"}\n"
   ]
  },
  {
   "cell_type": "code",
   "execution_count": 5,
   "id": "fbbc697c",
   "metadata": {
    "execution": {
     "iopub.execute_input": "2023-04-25T08:32:46.454942Z",
     "iopub.status.busy": "2023-04-25T08:32:46.452210Z",
     "iopub.status.idle": "2023-04-25T08:32:46.469359Z",
     "shell.execute_reply": "2023-04-25T08:32:46.465468Z"
    },
    "papermill": {
     "duration": 0.034248,
     "end_time": "2023-04-25T08:32:46.477581",
     "exception": false,
     "start_time": "2023-04-25T08:32:46.443333",
     "status": "completed"
    },
    "tags": []
   },
   "outputs": [
    {
     "name": "stdout",
     "output_type": "stream",
     "text": [
      "poc_null\n",
      "/Users/nacho/notebooks/pipelines/nbs_dir/01_poc_null.ipynb\n"
     ]
    }
   ],
   "source": [
    "print(env_type)\n",
    "print(product[\"nb\"])"
   ]
  }
 ],
 "metadata": {
  "jupytext": {
   "text_representation": {
    "extension": ".py",
    "format_name": "percent",
    "format_version": "1.3",
    "jupytext_version": "1.14.5"
   }
  },
  "kernelspec": {
   "display_name": "Python 3 (ipykernel)",
   "language": "python",
   "name": "python3"
  },
  "language_info": {
   "codemirror_mode": {
    "name": "ipython",
    "version": 3
   },
   "file_extension": ".py",
   "mimetype": "text/x-python",
   "name": "python",
   "nbconvert_exporter": "python",
   "pygments_lexer": "ipython3",
   "version": "3.9.15"
  },
  "papermill": {
   "duration": 5.701665,
   "end_time": "2023-04-25T08:32:46.936875",
   "exception": null,
   "input_path": "/var/folders/42/4hhwknbd5kzcbq48tmy_gbp00000gn/T/tmppc6su_3k.ipynb",
   "output_path": "/Users/nacho/notebooks/pipelines/nbs_dir/01_poc_null.ipynb",
   "parameters": {
    "env_type": "poc_null",
    "product": {
     "nb": "/Users/nacho/notebooks/pipelines/nbs_dir/01_poc_null.ipynb"
    }
   },
   "start_time": "2023-04-25T08:32:41.235210"
  }
 },
 "nbformat": 4,
 "nbformat_minor": 5
}