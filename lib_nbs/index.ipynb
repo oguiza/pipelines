{
 "cells": [
  {
   "cell_type": "code",
   "execution_count": null,
   "metadata": {},
   "outputs": [],
   "source": [
    "#| hide\n",
    "from pipelines.core import *"
   ]
  },
  {
   "cell_type": "markdown",
   "metadata": {},
   "source": [
    "# pipelines\n",
    "\n",
    "> Test pipelines using nbdev, ploomber and tsai."
   ]
  },
  {
   "cell_type": "markdown",
   "metadata": {},
   "source": [
    "## How to use"
   ]
  },
  {
   "attachments": {},
   "cell_type": "markdown",
   "metadata": {},
   "source": [
    "```python\n",
    "ploomber scaffold -e pipeline.yaml\n",
    "```\n",
    "\n",
    "```python\n",
    "ploomber build -e pipeline.yaml\n",
    "```"
   ]
  },
  {
   "attachments": {},
   "cell_type": "markdown",
   "metadata": {},
   "source": [
    "```python\n",
    "ploomber scaffold -e pipeline.training.yaml\n",
    "```\n",
    "\n",
    "```python\n",
    "ploomber build -e pipeline.training.yaml\n",
    "```"
   ]
  },
  {
   "attachments": {},
   "cell_type": "markdown",
   "metadata": {},
   "source": [
    "```python\n",
    "ploomber scaffold -e pipelines/POC/pipeline.poc.yaml\n",
    "```\n",
    "\n",
    "```python\n",
    "ploomber build -e pipelines/POC/pipeline.poc.yaml\n",
    "```"
   ]
  },
  {
   "attachments": {},
   "cell_type": "markdown",
   "metadata": {},
   "source": [
    "```python\n",
    "ploomber scaffold -e pipelines/POC/pipeline.poc_training.yaml\n",
    "```\n",
    "\n",
    "```python\n",
    "ploomber build -e pipelines/POC/pipeline.poc_training.yaml\n",
    "```"
   ]
  },
  {
   "cell_type": "markdown",
   "metadata": {},
   "source": []
  }
 ],
 "metadata": {
  "kernelspec": {
   "display_name": "python3",
   "language": "python",
   "name": "python3"
  }
 },
 "nbformat": 4,
 "nbformat_minor": 4
}
